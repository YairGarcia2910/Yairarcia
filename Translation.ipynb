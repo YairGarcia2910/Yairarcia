{
  "nbformat": 4,
  "nbformat_minor": 0,
  "metadata": {
    "colab": {
      "name": "Translation",
      "provenance": [],
      "authorship_tag": "ABX9TyP4HxI1BWXCDGS1uC9nRt1D",
      "include_colab_link": true
    },
    "kernelspec": {
      "name": "python3",
      "display_name": "Python 3"
    }
  },
  "cells": [
    {
      "cell_type": "markdown",
      "metadata": {
        "id": "view-in-github",
        "colab_type": "text"
      },
      "source": [
        "<a href=\"https://colab.research.google.com/github/YairGarcia2910/Yairarcia/blob/main/Translation.ipynb\" target=\"_parent\"><img src=\"https://colab.research.google.com/assets/colab-badge.svg\" alt=\"Open In Colab\"/></a>"
      ]
    },
    {
      "cell_type": "code",
      "metadata": {
        "colab": {
          "base_uri": "https://localhost:8080/"
        },
        "id": "oGtcW9139-UL",
        "outputId": "81369035-e95c-480c-d812-8fe4846d5a40"
      },
      "source": [
        "cog_key = '1d179db6adfa4ac09dcca67579396c0c'\r\n",
        "cog_endpoint = 'https://bot12.cognitiveservices.azure.com/'\r\n",
        "cog_region = 'eastus2'\r\n",
        "\r\n",
        "print('Ready to use cognitive services in {} using key {}'.format(cog_region, cog_key))"
      ],
      "execution_count": 7,
      "outputs": [
        {
          "output_type": "stream",
          "text": [
            "Ready to use cognitive services in eastus2 using key 1d179db6adfa4ac09dcca67579396c0c\n"
          ],
          "name": "stdout"
        }
      ]
    },
    {
      "cell_type": "code",
      "metadata": {
        "colab": {
          "base_uri": "https://localhost:8080/"
        },
        "id": "OPmq73as-C3u",
        "outputId": "9530e37b-2a45-4716-c51d-af65d246ce83"
      },
      "source": [
        "\r\n",
        "def translate_text(cog_region, cog_key, text, to_lang='fr', from_lang='en'):\r\n",
        "    import requests, uuid, json\r\n",
        "\r\n",
        "    path = 'https://api.cognitive.microsofttranslator.com/translate?api-version=3.0'\r\n",
        "    params = '&from={}&to={}'.format(from_lang, to_lang)\r\n",
        "    constructed_url = path + params\r\n",
        "\r\n",
        " \r\n",
        "    headers = {\r\n",
        "        'Ocp-Apim-Subscription-Key': cog_key,\r\n",
        "        'Ocp-Apim-Subscription-Region':cog_region,\r\n",
        "        'Content-type': 'application/json',\r\n",
        "        'X-ClientTraceId': str(uuid.uuid4())\r\n",
        "    }\r\n",
        "\r\n",
        "    \r\n",
        "    body = [{\r\n",
        "        'text': text\r\n",
        "    }]\r\n",
        "\r\n",
        "   \r\n",
        "    request = requests.post(constructed_url, headers=headers, json=body)\r\n",
        "    response = request.json()\r\n",
        "    return response[0][\"translations\"][0][\"text\"]\r\n",
        "\r\n",
        "\r\n",
        "\r\n",
        "text_to_translate = \"Hello\"\r\n",
        "\r\n",
        "translation = translate_text(cog_region, cog_key, text_to_translate, to_lang='fr', from_lang='en')\r\n",
        "print('{} -> {}'.format(text_to_translate,translation))"
      ],
      "execution_count": 13,
      "outputs": [
        {
          "output_type": "stream",
          "text": [
            "Hello -> Bonjour\n"
          ],
          "name": "stdout"
        }
      ]
    },
    {
      "cell_type": "code",
      "metadata": {
        "colab": {
          "base_uri": "https://localhost:8080/"
        },
        "id": "a0dq6Vj2Ex3_",
        "outputId": "88a5bb60-9e7d-4ab4-ab27-26e378e16bbd"
      },
      "source": [
        "text_to_translate = \"Hello\"\r\n",
        "\r\n",
        "translation = translate_text(cog_region, cog_key, text_to_translate, to_lang='it-IT', from_lang='en-GB')\r\n",
        "print('{} -> {}'.format(text_to_translate,translation))"
      ],
      "execution_count": 3,
      "outputs": [
        {
          "output_type": "stream",
          "text": [
            "Hello -> Ciao\n"
          ],
          "name": "stdout"
        }
      ]
    },
    {
      "cell_type": "code",
      "metadata": {
        "colab": {
          "base_uri": "https://localhost:8080/"
        },
        "id": "DKuRdoj0E41Q",
        "outputId": "152200a0-29a4-4970-fd45-4850a1dae8db"
      },
      "source": [
        "text_to_translate = \"Hello\"\r\n",
        "\r\n",
        "translation = translate_text(cog_region, cog_key, text_to_translate, to_lang='zh-CN', from_lang='en-US')\r\n",
        "print('{} -> {}'.format(text_to_translate,translation))"
      ],
      "execution_count": 4,
      "outputs": [
        {
          "output_type": "stream",
          "text": [
            "Hello -> 你好\n"
          ],
          "name": "stdout"
        }
      ]
    },
    {
      "cell_type": "code",
      "metadata": {
        "colab": {
          "base_uri": "https://localhost:8080/"
        },
        "id": "KOQiOSCYH5dE",
        "outputId": "e2509051-c539-4094-e0d7-51bc98b25e4a"
      },
      "source": [
        "! pip install azure.cognitiveservices.speech"
      ],
      "execution_count": 14,
      "outputs": [
        {
          "output_type": "stream",
          "text": [
            "Collecting azure.cognitiveservices.speech\n",
            "  Using cached https://files.pythonhosted.org/packages/28/df/ffa9403fb2239876e330107de06a99cebbb66a420880324c896a337e0bdc/azure_cognitiveservices_speech-1.15.0-cp37-cp37m-manylinux1_x86_64.whl\n",
            "Installing collected packages: azure.cognitiveservices.speech\n",
            "Successfully installed azure.cognitiveservices.speech\n"
          ],
          "name": "stdout"
        }
      ]
    },
    {
      "cell_type": "code",
      "metadata": {
        "id": "FX7OiajdMr1i"
      },
      "source": [
        "\r\n",
        "def translate_speech(cog_region, cog_key, audio_file=None, to_lang='fr-FR', from_lang='en-US'):\r\n",
        "    from azure.cognitiveservices.speech import SpeechConfig, AudioConfig, ResultReason\r\n",
        "    from azure.cognitiveservices.speech.translation import SpeechTranslationConfig, TranslationRecognizer\r\n",
        "\r\n",
        "    translation_config = SpeechTranslationConfig(subscription=cog_key, region=cog_region)\r\n",
        "    translation_config.speech_recognition_language = from_lang\r\n",
        "    translation_config.add_target_language(to_lang)\r\n",
        "\r\n",
        "   \r\n",
        "    if audio_file is None:\r\n",
        "        audio_config = AudioConfig() \r\n",
        "    else:\r\n",
        "        audio_config = AudioConfig(filename=audio_file) \r\n",
        "\r\n",
        "    recognizer = TranslationRecognizer(translation_config, audio_config)\r\n",
        "    result = recognizer.recognize_once()\r\n",
        "\r\n",
        "    \r\n",
        "    translation = ''\r\n",
        "    speech_text = ''\r\n",
        "    if result.reason == ResultReason.TranslatedSpeech:\r\n",
        "        speech_text = result.text\r\n",
        "        translation =  result.translations[to_lang]\r\n",
        "    elif result.reason == ResultReason.RecognizedSpeech:\r\n",
        "        speech_text = result.text\r\n",
        "        translation =  'Unable to translate speech'\r\n",
        "    else:\r\n",
        "        translation = 'Unknown'\r\n",
        "        speech_text = 'Unknown'\r\n",
        "\r\n",
        "   \r\n",
        "    return speech_text, translation\r\n",
        "    \r\n",
        "\r\n",
        "\r\n",
        "import os, IPython\r\n",
        "\r\n",
        "file_name = 'english.wav'\r\n",
        "file_path = os.path.join('data', 'translation', file_name)\r\n",
        "speech, translated_speech = translate_speech(cog_region, cog_key, file_path, to_lang='es', from_lang='en-US')\r\n",
        "result = '{} -> {}'.format(speech, translated_speech)\r\n",
        "\r\n",
        "\r\n",
        "IPython.display.display(IPython.display.Audio(file_path, autoplay=True),\r\n",
        "                        IPython.display.HTML(result))"
      ],
      "execution_count": null,
      "outputs": []
    },
    {
      "cell_type": "code",
      "metadata": {
        "id": "8jG-PgzYNbHe"
      },
      "source": [
        "import os, IPython\r\n",
        "\r\n",
        "file_name = 'french.wav'\r\n",
        "file_path = os.path.join('data', 'translation', file_name)\r\n",
        "speech, translated_speech = translate_speech(cog_region, cog_key, file_path, to_lang='en', from_lang='fr-FR')\r\n",
        "result = '{} -> {}'.format(speech, translated_speech)\r\n",
        "\r\n",
        "\r\n",
        "IPython.display.display(IPython.display.Audio(file_path, autoplay=True),\r\n",
        "                        IPython.display.HTML(result))"
      ],
      "execution_count": null,
      "outputs": []
    },
    {
      "cell_type": "code",
      "metadata": {
        "id": "0gN-Rkr8NhEl"
      },
      "source": [
        ""
      ],
      "execution_count": null,
      "outputs": []
    }
  ]
}